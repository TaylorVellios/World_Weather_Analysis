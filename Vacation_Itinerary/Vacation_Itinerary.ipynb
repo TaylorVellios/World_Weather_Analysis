{
 "cells": [
  {
   "cell_type": "markdown",
   "metadata": {},
   "source": [
    "## Deliverable 3. Create a Travel Itinerary Map."
   ]
  },
  {
   "cell_type": "code",
   "execution_count": 1,
   "metadata": {},
   "outputs": [],
   "source": [
    "# Dependencies and Setup\n",
    "import pandas as pd\n",
    "import requests\n",
    "import gmaps\n",
    "\n",
    "# Import API key\n",
    "from config import g_key\n",
    "\n",
    "# Configure gmaps\n",
    "gmaps.configure(api_key=g_key)"
   ]
  },
  {
   "cell_type": "code",
   "execution_count": 2,
   "metadata": {},
   "outputs": [
    {
     "data": {
      "text/html": [
       "<div>\n",
       "<style scoped>\n",
       "    .dataframe tbody tr th:only-of-type {\n",
       "        vertical-align: middle;\n",
       "    }\n",
       "\n",
       "    .dataframe tbody tr th {\n",
       "        vertical-align: top;\n",
       "    }\n",
       "\n",
       "    .dataframe thead th {\n",
       "        text-align: right;\n",
       "    }\n",
       "</style>\n",
       "<table border=\"1\" class=\"dataframe\">\n",
       "  <thead>\n",
       "    <tr style=\"text-align: right;\">\n",
       "      <th></th>\n",
       "      <th>City_ID</th>\n",
       "      <th>City</th>\n",
       "      <th>Country</th>\n",
       "      <th>Max Temp</th>\n",
       "      <th>Current Description</th>\n",
       "      <th>Lat</th>\n",
       "      <th>Lng</th>\n",
       "      <th>Hotel Name</th>\n",
       "    </tr>\n",
       "  </thead>\n",
       "  <tbody>\n",
       "    <tr>\n",
       "      <th>0</th>\n",
       "      <td>3</td>\n",
       "      <td>Saint-Philippe</td>\n",
       "      <td>RE</td>\n",
       "      <td>78.80</td>\n",
       "      <td>light rain</td>\n",
       "      <td>-21.36</td>\n",
       "      <td>55.77</td>\n",
       "      <td>Chambres d'hôte \"La Trinité\"</td>\n",
       "    </tr>\n",
       "    <tr>\n",
       "      <th>1</th>\n",
       "      <td>12</td>\n",
       "      <td>Jamestown</td>\n",
       "      <td>SH</td>\n",
       "      <td>71.44</td>\n",
       "      <td>broken clouds</td>\n",
       "      <td>-15.94</td>\n",
       "      <td>-5.72</td>\n",
       "      <td>Consulate</td>\n",
       "    </tr>\n",
       "    <tr>\n",
       "      <th>2</th>\n",
       "      <td>13</td>\n",
       "      <td>Rio Grande</td>\n",
       "      <td>BR</td>\n",
       "      <td>75.20</td>\n",
       "      <td>broken clouds</td>\n",
       "      <td>-32.03</td>\n",
       "      <td>-52.10</td>\n",
       "      <td>Hotel Atlântico Rio Grande</td>\n",
       "    </tr>\n",
       "    <tr>\n",
       "      <th>3</th>\n",
       "      <td>15</td>\n",
       "      <td>Umluj</td>\n",
       "      <td>SA</td>\n",
       "      <td>72.43</td>\n",
       "      <td>few clouds</td>\n",
       "      <td>25.02</td>\n",
       "      <td>37.27</td>\n",
       "      <td>Moon light Furnished Units</td>\n",
       "    </tr>\n",
       "    <tr>\n",
       "      <th>4</th>\n",
       "      <td>18</td>\n",
       "      <td>Bīdar</td>\n",
       "      <td>IN</td>\n",
       "      <td>88.41</td>\n",
       "      <td>scattered clouds</td>\n",
       "      <td>17.90</td>\n",
       "      <td>77.55</td>\n",
       "      <td>Kaveri Hotel</td>\n",
       "    </tr>\n",
       "  </tbody>\n",
       "</table>\n",
       "</div>"
      ],
      "text/plain": [
       "   City_ID            City Country  Max Temp Current Description    Lat  \\\n",
       "0        3  Saint-Philippe      RE     78.80          light rain -21.36   \n",
       "1       12       Jamestown      SH     71.44       broken clouds -15.94   \n",
       "2       13      Rio Grande      BR     75.20       broken clouds -32.03   \n",
       "3       15           Umluj      SA     72.43          few clouds  25.02   \n",
       "4       18           Bīdar      IN     88.41    scattered clouds  17.90   \n",
       "\n",
       "     Lng                    Hotel Name  \n",
       "0  55.77  Chambres d'hôte \"La Trinité\"  \n",
       "1  -5.72                     Consulate  \n",
       "2 -52.10    Hotel Atlântico Rio Grande  \n",
       "3  37.27    Moon light Furnished Units  \n",
       "4  77.55                  Kaveri Hotel  "
      ]
     },
     "execution_count": 2,
     "metadata": {},
     "output_type": "execute_result"
    }
   ],
   "source": [
    "# 1. Read the WeatherPy_vacation.csv into a DataFrame.\n",
    "vacation_df = pd.read_csv(\"../Vacation_Search/WeatherPy_vacation.csv\")\n",
    "vacation_df.head()"
   ]
  },
  {
   "cell_type": "code",
   "execution_count": 3,
   "metadata": {},
   "outputs": [],
   "source": [
    "# 2. Using the template add the city name, the country code, the weather description and maximum temperature for the city.\n",
    "info_box_template = \"\"\"\n",
    "<dl>\n",
    "<dt>Hotel Name</dt><dd>{Hotel Name}</dd>\n",
    "<dt>City</dt><dd>{City}</dd>\n",
    "<dt>Country</dt><dd>{Country}</dd>\n",
    "<dt>Current Weather</dt><dd>{Current Description} and {Max Temp}°F</dd>\n",
    "</dl>\n",
    "\"\"\"\n",
    "\n",
    "# 3a. Get the data from each row and add it to the formatting template and store the data in a list.\n",
    "hotel_info = [info_box_template.format(**row) for index, row in vacation_df.iterrows()]\n",
    "\n",
    "# 3b. Get the latitude and longitude from each row and store in a new DataFrame.\n",
    "locations = vacation_df[[\"Lat\", \"Lng\"]]"
   ]
  },
  {
   "cell_type": "code",
   "execution_count": 4,
   "metadata": {},
   "outputs": [
    {
     "data": {
      "application/vnd.jupyter.widget-view+json": {
       "model_id": "2e88a15912794e9cac25d72952ed8770",
       "version_major": 2,
       "version_minor": 0
      },
      "text/plain": [
       "Figure(layout=FigureLayout(height='420px'))"
      ]
     },
     "metadata": {},
     "output_type": "display_data"
    }
   ],
   "source": [
    "# 4a. Add a marker layer for each city to the map. \n",
    "\n",
    "fig = gmaps.figure(center=(30.0, 31.0), zoom_level=1.5)\n",
    "\n",
    "marker_layer = gmaps.marker_layer(locations, info_box_content=hotel_info)\n",
    "\n",
    "fig.add_layer(marker_layer)\n",
    "\n",
    "# 4b. Display the figure\n",
    "fig"
   ]
  },
  {
   "cell_type": "code",
   "execution_count": 5,
   "metadata": {},
   "outputs": [],
   "source": [
    "# From the map above pick 4 cities and create a vacation itinerary route to travel between the four cities. \n",
    "# 5. Create DataFrames for each city by filtering the 'vacation_df' using the loc method. \n",
    "# Hint: The starting and ending city should be the same city.\n",
    "\n",
    "vacation_start = vacation_df.loc[vacation_df['City']=='Cape Town']\n",
    "vacation_end = vacation_df.loc[vacation_df['City']=='Cape Town']\n",
    "vacation_stop1 = vacation_df.loc[vacation_df['City']=='Kanye']\n",
    "vacation_stop2 = vacation_df.loc[vacation_df['City']=='Maputo'] \n",
    "vacation_stop3 = vacation_df.loc[vacation_df['City']=='Richards Bay']"
   ]
  },
  {
   "cell_type": "code",
   "execution_count": 6,
   "metadata": {},
   "outputs": [],
   "source": [
    "# 6. Get the latitude-longitude pairs as tuples from each city DataFrame using the to_numpy function and list indexing.\n",
    "start = (vacation_start.to_numpy()[0][-3],vacation_start.to_numpy()[0][-2])\n",
    "end = (vacation_end.to_numpy()[0][-3],vacation_end.to_numpy()[0][-2])\n",
    "stop1 = (vacation_stop1.to_numpy()[0][-3],vacation_stop1.to_numpy()[0][-2])\n",
    "stop2 = (vacation_stop2.to_numpy()[0][-3],vacation_stop2.to_numpy()[0][-2])\n",
    "stop3 = (vacation_stop3.to_numpy()[0][-3],vacation_stop3.to_numpy()[0][-2])"
   ]
  },
  {
   "cell_type": "code",
   "execution_count": 7,
   "metadata": {
    "scrolled": false
   },
   "outputs": [
    {
     "data": {
      "application/vnd.jupyter.widget-view+json": {
       "model_id": "a5476e3001264964900bb766dedb0cae",
       "version_major": 2,
       "version_minor": 0
      },
      "text/plain": [
       "Figure(layout=FigureLayout(height='420px'))"
      ]
     },
     "metadata": {},
     "output_type": "display_data"
    }
   ],
   "source": [
    "# 7. Create a direction layer map using the start and end latitude-longitude pairs,\n",
    "# and stop1, stop2, and stop3 as the waypoints. The travel_mode should be \"DRIVING\", \"BICYCLING\", or \"WALKING\".\n",
    "directions = gmaps.directions_layer(start, end, waypoints=[stop1,stop2,stop3], travel_mode='DRIVING')\n",
    "fig = gmaps.figure(center=(-30.0, 31.0), zoom_level=4.5)\n",
    "\n",
    "fig.add_layer(directions)\n",
    "\n",
    "# 11b. Display the figure\n",
    "fig"
   ]
  },
  {
   "cell_type": "code",
   "execution_count": 8,
   "metadata": {},
   "outputs": [
    {
     "data": {
      "text/html": [
       "<div>\n",
       "<style scoped>\n",
       "    .dataframe tbody tr th:only-of-type {\n",
       "        vertical-align: middle;\n",
       "    }\n",
       "\n",
       "    .dataframe tbody tr th {\n",
       "        vertical-align: top;\n",
       "    }\n",
       "\n",
       "    .dataframe thead th {\n",
       "        text-align: right;\n",
       "    }\n",
       "</style>\n",
       "<table border=\"1\" class=\"dataframe\">\n",
       "  <thead>\n",
       "    <tr style=\"text-align: right;\">\n",
       "      <th></th>\n",
       "      <th>City_ID</th>\n",
       "      <th>City</th>\n",
       "      <th>Country</th>\n",
       "      <th>Max Temp</th>\n",
       "      <th>Current Description</th>\n",
       "      <th>Lat</th>\n",
       "      <th>Lng</th>\n",
       "      <th>Hotel Name</th>\n",
       "    </tr>\n",
       "  </thead>\n",
       "  <tbody>\n",
       "    <tr>\n",
       "      <th>0</th>\n",
       "      <td>82</td>\n",
       "      <td>Cape Town</td>\n",
       "      <td>ZA</td>\n",
       "      <td>73.00</td>\n",
       "      <td>clear sky</td>\n",
       "      <td>-33.93</td>\n",
       "      <td>18.42</td>\n",
       "      <td>Southern Sun Cape Sun</td>\n",
       "    </tr>\n",
       "    <tr>\n",
       "      <th>1</th>\n",
       "      <td>506</td>\n",
       "      <td>Kanye</td>\n",
       "      <td>BW</td>\n",
       "      <td>73.81</td>\n",
       "      <td>clear sky</td>\n",
       "      <td>-24.97</td>\n",
       "      <td>25.33</td>\n",
       "      <td>The Savanna Lodge</td>\n",
       "    </tr>\n",
       "    <tr>\n",
       "      <th>2</th>\n",
       "      <td>396</td>\n",
       "      <td>Maputo</td>\n",
       "      <td>MZ</td>\n",
       "      <td>75.20</td>\n",
       "      <td>broken clouds</td>\n",
       "      <td>-25.97</td>\n",
       "      <td>32.59</td>\n",
       "      <td>Pestana Rovuma</td>\n",
       "    </tr>\n",
       "    <tr>\n",
       "      <th>3</th>\n",
       "      <td>164</td>\n",
       "      <td>Richards Bay</td>\n",
       "      <td>ZA</td>\n",
       "      <td>72.41</td>\n",
       "      <td>broken clouds</td>\n",
       "      <td>-28.78</td>\n",
       "      <td>32.04</td>\n",
       "      <td>BON Hotel Waterfront Richards Bay</td>\n",
       "    </tr>\n",
       "  </tbody>\n",
       "</table>\n",
       "</div>"
      ],
      "text/plain": [
       "   City_ID          City Country  Max Temp Current Description    Lat    Lng  \\\n",
       "0       82     Cape Town      ZA     73.00           clear sky -33.93  18.42   \n",
       "1      506         Kanye      BW     73.81           clear sky -24.97  25.33   \n",
       "2      396        Maputo      MZ     75.20       broken clouds -25.97  32.59   \n",
       "3      164  Richards Bay      ZA     72.41       broken clouds -28.78  32.04   \n",
       "\n",
       "                          Hotel Name  \n",
       "0              Southern Sun Cape Sun  \n",
       "1                  The Savanna Lodge  \n",
       "2                     Pestana Rovuma  \n",
       "3  BON Hotel Waterfront Richards Bay  "
      ]
     },
     "execution_count": 8,
     "metadata": {},
     "output_type": "execute_result"
    }
   ],
   "source": [
    "# 8. To create a marker layer map between the four cities.\n",
    "#  Combine the four city DataFrames into one DataFrame using the concat() function.\n",
    "itinerary_df = pd.concat([vacation_start, \n",
    "                          vacation_stop1, \n",
    "                          vacation_stop2,\n",
    "                          vacation_stop3],ignore_index=True)\n",
    "itinerary_df"
   ]
  },
  {
   "cell_type": "code",
   "execution_count": 9,
   "metadata": {},
   "outputs": [],
   "source": [
    "# 9 Using the template add city name, the country code, the weather description and maximum temperature for the city. \n",
    "info_box_template = \"\"\"\n",
    "<dl>\n",
    "<dt>Hotel Name</dt><dd>{Hotel Name}</dd>\n",
    "<dt>City</dt><dd>{City}</dd>\n",
    "<dt>Country</dt><dd>{Country}</dd>\n",
    "<dt>Current Weather</dt><dd>{Current Description} and {Max Temp}°F</dd>\n",
    "</dl>\n",
    "\"\"\"\n",
    "\n",
    "# 10a Get the data from each row and add it to the formatting template and store the data in a list.\n",
    "hotel_info = [info_box_template.format(**row) for index, row in itinerary_df.iterrows()]\n",
    "\n",
    "# 10b. Get the latitude and longitude from each row and store in a new DataFrame.\n",
    "locations = itinerary_df[[\"Lat\", \"Lng\"]]"
   ]
  },
  {
   "cell_type": "code",
   "execution_count": 10,
   "metadata": {},
   "outputs": [
    {
     "data": {
      "application/vnd.jupyter.widget-view+json": {
       "model_id": "c3932f11de4846c2acd9b5f7609baa3d",
       "version_major": 2,
       "version_minor": 0
      },
      "text/plain": [
       "Figure(layout=FigureLayout(height='420px'))"
      ]
     },
     "metadata": {},
     "output_type": "display_data"
    }
   ],
   "source": [
    "# 11a. Add a marker layer for each city to the map.\n",
    "markers = gmaps.marker_layer(locations, info_box_content=hotel_info)\n",
    "\n",
    "fig = gmaps.figure(center=(-30.0, 31.0), zoom_level=4.5)\n",
    "\n",
    "fig.add_layer(markers)\n",
    "\n",
    "# 11b. Display the figure\n",
    "fig"
   ]
  },
  {
   "cell_type": "code",
   "execution_count": null,
   "metadata": {},
   "outputs": [],
   "source": []
  }
 ],
 "metadata": {
  "kernelspec": {
   "display_name": "PythonData",
   "language": "python",
   "name": "pythondata"
  },
  "language_info": {
   "codemirror_mode": {
    "name": "ipython",
    "version": 3
   },
   "file_extension": ".py",
   "mimetype": "text/x-python",
   "name": "python",
   "nbconvert_exporter": "python",
   "pygments_lexer": "ipython3",
   "version": "3.9.2"
  },
  "latex_envs": {
   "LaTeX_envs_menu_present": true,
   "autoclose": false,
   "autocomplete": true,
   "bibliofile": "biblio.bib",
   "cite_by": "apalike",
   "current_citInitial": 1,
   "eqLabelWithNumbers": true,
   "eqNumInitial": 1,
   "hotkeys": {
    "equation": "Ctrl-E",
    "itemize": "Ctrl-I"
   },
   "labels_anchors": false,
   "latex_user_defs": false,
   "report_style_numbering": false,
   "user_envs_cfg": false
  }
 },
 "nbformat": 4,
 "nbformat_minor": 2
}
